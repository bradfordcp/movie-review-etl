{
 "cells": [
  {
   "cell_type": "code",
   "execution_count": 40,
   "metadata": {},
   "outputs": [],
   "source": [
    "import pyarrow as pa\n",
    "import pyarrow.parquet as pq\n",
    "import pandas as pd"
   ]
  },
  {
   "cell_type": "code",
   "execution_count": 11,
   "metadata": {},
   "outputs": [],
   "source": [
    "dataset = pq.ParquetDataset('../../input/amazon_pq/product_category=Video_DVD')\n",
    "table = dataset.read()"
   ]
  },
  {
   "cell_type": "code",
   "execution_count": 19,
   "metadata": {},
   "outputs": [],
   "source": [
    "df = table.to_pandas()"
   ]
  },
  {
   "cell_type": "code",
   "execution_count": 22,
   "metadata": {},
   "outputs": [
    {
     "data": {
      "text/plain": [
       "marketplace          7135819\n",
       "customer_id          7135819\n",
       "review_id            7135819\n",
       "product_id           7135819\n",
       "product_parent       7135819\n",
       "product_title        7135819\n",
       "star_rating          7135819\n",
       "helpful_votes        7135819\n",
       "total_votes          7135819\n",
       "vine                 7135819\n",
       "verified_purchase    7135819\n",
       "review_headline      7135786\n",
       "review_body          7135787\n",
       "review_date          7135819\n",
       "year                 7135819\n",
       "dtype: int64"
      ]
     },
     "execution_count": 22,
     "metadata": {},
     "output_type": "execute_result"
    }
   ],
   "source": [
    "df.count()"
   ]
  },
  {
   "cell_type": "code",
   "execution_count": 36,
   "metadata": {},
   "outputs": [
    {
     "data": {
      "text/plain": [
       "marketplace          6166026\n",
       "customer_id          6166026\n",
       "review_id            6166026\n",
       "product_id           6166026\n",
       "product_parent       6166026\n",
       "product_title        6166026\n",
       "star_rating          6166026\n",
       "helpful_votes        6166026\n",
       "total_votes          6166026\n",
       "vine                 6166026\n",
       "verified_purchase    6166026\n",
       "review_headline      6165994\n",
       "review_body          6165994\n",
       "review_date          6166026\n",
       "year                 6166026\n",
       "dtype: int64"
      ]
     },
     "execution_count": 36,
     "metadata": {},
     "output_type": "execute_result"
    }
   ],
   "source": [
    "us_df = df[df.marketplace == \"US\"]\n",
    "us_df.count()"
   ]
  },
  {
   "cell_type": "code",
   "execution_count": 37,
   "metadata": {},
   "outputs": [
    {
     "data": {
      "text/plain": [
       "product_id         5069140\n",
       "review_headline    5069114\n",
       "review_body        5069114\n",
       "star_rating        5069140\n",
       "review_date        5069140\n",
       "dtype: int64"
      ]
     },
     "execution_count": 37,
     "metadata": {},
     "output_type": "execute_result"
    }
   ],
   "source": [
    "review_df = us_df[[\"product_id\", \"review_id\", \"review_headline\", \"review_body\", \"star_rating\", \"review_date\"]].copy()\n",
    "review_df.drop_duplicates(inplace=True)\n",
    "review_df.set_index(\"review_id\", inplace=True)\n",
    "review_df.count()"
   ]
  },
  {
   "cell_type": "code",
   "execution_count": 41,
   "metadata": {},
   "outputs": [],
   "source": [
    "review_table = pa.Table.from_pandas(review_df)\n",
    "pq.write_table(review_table, '../../input/reviews.parquet')"
   ]
  },
  {
   "cell_type": "code",
   "execution_count": 38,
   "metadata": {},
   "outputs": [
    {
     "data": {
      "text/plain": [
       "product_title    297919\n",
       "dtype: int64"
      ]
     },
     "execution_count": 38,
     "metadata": {},
     "output_type": "execute_result"
    }
   ],
   "source": [
    "movie_df = us_df[[\"product_id\", \"product_title\"]].copy()\n",
    "movie_df.drop_duplicates(inplace=True)\n",
    "movie_df.set_index(\"product_id\", inplace=True)\n",
    "movie_df.count()"
   ]
  },
  {
   "cell_type": "code",
   "execution_count": 42,
   "metadata": {},
   "outputs": [],
   "source": [
    "movie_table = pa.Table.from_pandas(movie_df)\n",
    "pq.write_table(movie_table, '../../input/movies.parquet')"
   ]
  },
  {
   "cell_type": "code",
   "execution_count": null,
   "metadata": {},
   "outputs": [],
   "source": []
  }
 ],
 "metadata": {
  "kernelspec": {
   "display_name": "Python 3",
   "language": "python",
   "name": "python3"
  },
  "language_info": {
   "codemirror_mode": {
    "name": "ipython",
    "version": 3
   },
   "file_extension": ".py",
   "mimetype": "text/x-python",
   "name": "python",
   "nbconvert_exporter": "python",
   "pygments_lexer": "ipython3",
   "version": "3.7.3"
  }
 },
 "nbformat": 4,
 "nbformat_minor": 2
}
